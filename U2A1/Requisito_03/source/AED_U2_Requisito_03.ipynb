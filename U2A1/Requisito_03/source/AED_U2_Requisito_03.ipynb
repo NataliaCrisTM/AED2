{
  "nbformat": 4,
  "nbformat_minor": 0,
  "metadata": {
    "colab": {
      "provenance": []
    },
    "kernelspec": {
      "name": "python3",
      "display_name": "Python 3"
    },
    "language_info": {
      "name": "python"
    }
  },
  "cells": [
    {
      "cell_type": "markdown",
      "source": [
        "###Coleta de Métricas"
      ],
      "metadata": {
        "id": "GLOXnTgFrntQ"
      }
    },
    {
      "cell_type": "code",
      "execution_count": 2,
      "metadata": {
        "colab": {
          "base_uri": "https://localhost:8080/"
        },
        "id": "x94ROda1rhrY",
        "outputId": "6d76ba2c-483e-4233-e284-f510b2bfdefe"
      },
      "outputs": [
        {
          "output_type": "stream",
          "name": "stdout",
          "text": [
            "Rede 1:\n",
            "  Qtd Vértices: 1167\n",
            "  Qtd Arestas: 4654\n",
            "  Degree Assortativity Coefficient: 0.8566516522006032\n",
            "  Qtd Comp. Conectados: 173\n",
            "  Tamanho do Comp. Gigante (GCC): 158\n",
            "  Coef. de Clustering (avg_clustering): 0.8906764543336186\n",
            "\n",
            "Rede 2:\n",
            "  Qtd Vértices: 2097\n",
            "  Qtd Arestas: 39679\n",
            "  Degree Assortativity Coefficient: 0.9974344905747734\n",
            "  Qtd Comp. Conectados: 207\n",
            "  Tamanho do Comp. Gigante (GCC): 247\n",
            "  Coef. de Clustering (avg_clustering): 0.910669587666282\n",
            "\n",
            "Rede 3:\n",
            "  Qtd Vértices: 438\n",
            "  Qtd Arestas: 1636\n",
            "  Degree Assortativity Coefficient: 0.9019800693971588\n",
            "  Qtd Comp. Conectados: 61\n",
            "  Tamanho do Comp. Gigante (GCC): 54\n",
            "  Coef. de Clustering (avg_clustering): 0.884334416003303\n",
            "\n",
            "Rede 4:\n",
            "  Qtd Vértices: 954\n",
            "  Qtd Arestas: 6121\n",
            "  Degree Assortativity Coefficient: 0.9358899603464406\n",
            "  Qtd Comp. Conectados: 122\n",
            "  Tamanho do Comp. Gigante (GCC): 159\n",
            "  Coef. de Clustering (avg_clustering): 0.9278803101690397\n",
            "\n"
          ]
        }
      ],
      "source": [
        "import networkx as nx\n",
        "import pandas as pd\n",
        "\n",
        "def create_graph(dataframe):\n",
        "    graph = nx.Graph()\n",
        "\n",
        "    for index, row in dataframe.iterrows():\n",
        "        authors = set(row[\"Authors\"].split(\";\"))\n",
        "\n",
        "        for author in authors:\n",
        "            if not graph.has_node(author):\n",
        "                graph.add_node(author)\n",
        "\n",
        "        for i, author1 in enumerate(authors):\n",
        "            for author2 in authors - {author1}:\n",
        "                if not graph.has_edge(author1, author2):\n",
        "                    graph.add_edge(author1, author2)\n",
        "\n",
        "    return graph\n",
        "\n",
        "def calculate_graph_metrics(G):\n",
        "    metrics = {}\n",
        "    metrics['num_nodes'] = G.number_of_nodes()\n",
        "    metrics['num_edges'] = G.number_of_edges()\n",
        "    metrics['average_degree'] = sum(dict(G.degree()).values()) / G.number_of_nodes()\n",
        "    metrics['density'] = nx.density(G)\n",
        "    metrics['assortativity'] = nx.degree_assortativity_coefficient(G)\n",
        "    metrics['average_clustering'] = nx.average_clustering(G)\n",
        "    metrics['num_connected_components'] = nx.number_connected_components(G)\n",
        "    metrics['largest_component_size'] = len(max(nx.connected_components(G), key=len))\n",
        "    return metrics\n",
        "\n",
        "# Carregar os CSVs em DataFrames do pandas\n",
        "df1 = pd.read_csv('ods1.csv')\n",
        "df2 = pd.read_csv('ods2.csv')\n",
        "df3 = pd.read_csv('ods3.csv')\n",
        "df4 = pd.read_csv('ods4.csv')\n",
        "\n",
        "# Criar grafos para cada DataFrame\n",
        "graphs = [create_graph(df) for df in [df1, df2, df3, df4]]\n",
        "\n",
        "# Calcular métricas para cada grafo\n",
        "metrics = [calculate_graph_metrics(G) for G in graphs]\n",
        "\n",
        "# Imprimir as métricas de forma organizada\n",
        "for i, metric in enumerate(metrics):\n",
        "    print(f\"Rede {i+1}:\")\n",
        "    print(f\"  Qtd Vértices: {metric['num_nodes']}\")\n",
        "    print(f\"  Qtd Arestas: {metric['num_edges']}\")\n",
        "    print(f\"  Degree Assortativity Coefficient: {metric['assortativity']}\")\n",
        "    print(f\"  Qtd Comp. Conectados: {metric['num_connected_components']}\")\n",
        "    print(f\"  Tamanho do Comp. Gigante (GCC): {metric['largest_component_size']}\")\n",
        "    print(f\"  Coef. de Clustering (avg_clustering): {metric['average_clustering']}\")\n",
        "    print()\n"
      ]
    },
    {
      "cell_type": "markdown",
      "source": [],
      "metadata": {
        "id": "aEdRN3B4rsgT"
      }
    }
  ]
}